{
 "cells": [
  {
   "cell_type": "code",
   "execution_count": 25,
   "id": "0ff87028-2b1a-4535-8de8-560abea38616",
   "metadata": {},
   "outputs": [],
   "source": [
    "# Importing Libraries\n",
    "import  pandas as pd \n",
    "from sklearn.model_selection import train_test_split\n",
    "import os\n"
   ]
  },
  {
   "cell_type": "code",
   "execution_count": 26,
   "id": "17f73887-14a8-40f2-933e-2b422a1f7a68",
   "metadata": {},
   "outputs": [
    {
     "name": "stdout",
     "output_type": "stream",
     "text": [
      "Processing file:C:/Users/user/Desktop/DATASET/airline data for tableau\\airline_april.csv\n",
      "Processing file:C:/Users/user/Desktop/DATASET/airline data for tableau\\airline_august.csv\n",
      "Processing file:C:/Users/user/Desktop/DATASET/airline data for tableau\\airline_dec.csv\n",
      "Processing file:C:/Users/user/Desktop/DATASET/airline data for tableau\\airline_feb.csv\n",
      "Processing file:C:/Users/user/Desktop/DATASET/airline data for tableau\\airline_jan.csv\n",
      "Processing file:C:/Users/user/Desktop/DATASET/airline data for tableau\\airline_july.csv\n",
      "Processing file:C:/Users/user/Desktop/DATASET/airline data for tableau\\airline_june.csv\n",
      "Processing file:C:/Users/user/Desktop/DATASET/airline data for tableau\\airline_mar.csv\n",
      "Processing file:C:/Users/user/Desktop/DATASET/airline data for tableau\\airline_may.csv\n",
      "Processing file:C:/Users/user/Desktop/DATASET/airline data for tableau\\airline_nov.csv\n",
      "Processing file:C:/Users/user/Desktop/DATASET/airline data for tableau\\airline_oct.csv\n",
      "Processing file:C:/Users/user/Desktop/DATASET/airline data for tableau\\airline_sept.csv\n"
     ]
    }
   ],
   "source": [
    "import os\n",
    "import pandas as pd\n",
    "folder_path =\"C:/Users/user/Desktop/DATASET/airline data for tableau\"\n",
    "\n",
    "complete_airline_data = pd.DataFrame()\n",
    "for file_name in os.listdir(folder_path):\n",
    "    if file_name.endswith(\".csv\"):\n",
    "        file_path = os.path.join(folder_path, file_name)\n",
    "        print(f\"Processing file:{file_path}\")\n",
    "        temp_df = pd.read_csv(file_path)\n",
    "        complete_airline_data = pd.concat([complete_airline_data,temp_df], ignore_index = True)"
   ]
  },
  {
   "cell_type": "code",
   "execution_count": 27,
   "id": "bf8d4a2d-853c-467b-be82-36ce1f4ac5d4",
   "metadata": {
    "scrolled": true
   },
   "outputs": [
    {
     "data": {
      "text/plain": [
       "(6847899, 31)"
      ]
     },
     "execution_count": 27,
     "metadata": {},
     "output_type": "execute_result"
    }
   ],
   "source": [
    "complete_airline_data.shape"
   ]
  },
  {
   "cell_type": "code",
   "execution_count": 28,
   "id": "83cd0dc8-b6f3-4fb6-9ccd-9daf6469a727",
   "metadata": {},
   "outputs": [],
   "source": [
    "df=complete_airline_data"
   ]
  },
  {
   "cell_type": "code",
   "execution_count": 29,
   "id": "9a5db707-f64a-42cc-8fde-c2883ac1aa31",
   "metadata": {},
   "outputs": [],
   "source": [
    "# Feature Engineering - creating Key features needed for sampling\n",
    "\n",
    "df[\"FlightRoute\"] = df[\"ORIGIN\"] + \"-\" + df[\"DEST\"]\n",
    "df[\"AvgDelay\"] = df[[\"DEP_DELAY\", \"ARR_DELAY\"]].mean(axis = 1)\n",
    "df[\"CANCELLED\"] = df[\"CANCELLED\"].astype(int)"
   ]
  },
  {
   "cell_type": "code",
   "execution_count": 30,
   "id": "84381cab-99e6-4c40-9196-d4d96d691adc",
   "metadata": {},
   "outputs": [
    {
     "data": {
      "text/html": [
       "<div>\n",
       "<style scoped>\n",
       "    .dataframe tbody tr th:only-of-type {\n",
       "        vertical-align: middle;\n",
       "    }\n",
       "\n",
       "    .dataframe tbody tr th {\n",
       "        vertical-align: top;\n",
       "    }\n",
       "\n",
       "    .dataframe thead th {\n",
       "        text-align: right;\n",
       "    }\n",
       "</style>\n",
       "<table border=\"1\" class=\"dataframe\">\n",
       "  <thead>\n",
       "    <tr style=\"text-align: right;\">\n",
       "      <th></th>\n",
       "      <th>FlightRoute</th>\n",
       "      <th>CANCELLED</th>\n",
       "    </tr>\n",
       "  </thead>\n",
       "  <tbody>\n",
       "    <tr>\n",
       "      <th>0</th>\n",
       "      <td>JFK-BUF</td>\n",
       "      <td>0</td>\n",
       "    </tr>\n",
       "    <tr>\n",
       "      <th>1</th>\n",
       "      <td>ITH-JFK</td>\n",
       "      <td>0</td>\n",
       "    </tr>\n",
       "    <tr>\n",
       "      <th>2</th>\n",
       "      <td>JFK-ITH</td>\n",
       "      <td>0</td>\n",
       "    </tr>\n",
       "    <tr>\n",
       "      <th>3</th>\n",
       "      <td>CLE-JFK</td>\n",
       "      <td>0</td>\n",
       "    </tr>\n",
       "    <tr>\n",
       "      <th>4</th>\n",
       "      <td>ATL-FAY</td>\n",
       "      <td>0</td>\n",
       "    </tr>\n",
       "    <tr>\n",
       "      <th>...</th>\n",
       "      <td>...</td>\n",
       "      <td>...</td>\n",
       "    </tr>\n",
       "    <tr>\n",
       "      <th>6847894</th>\n",
       "      <td>JFK-CLT</td>\n",
       "      <td>0</td>\n",
       "    </tr>\n",
       "    <tr>\n",
       "      <th>6847895</th>\n",
       "      <td>DTW-PIT</td>\n",
       "      <td>0</td>\n",
       "    </tr>\n",
       "    <tr>\n",
       "      <th>6847896</th>\n",
       "      <td>LGA-RIC</td>\n",
       "      <td>0</td>\n",
       "    </tr>\n",
       "    <tr>\n",
       "      <th>6847897</th>\n",
       "      <td>BOS-DCA</td>\n",
       "      <td>0</td>\n",
       "    </tr>\n",
       "    <tr>\n",
       "      <th>6847898</th>\n",
       "      <td>RIC-LGA</td>\n",
       "      <td>0</td>\n",
       "    </tr>\n",
       "  </tbody>\n",
       "</table>\n",
       "<p>6847899 rows × 2 columns</p>\n",
       "</div>"
      ],
      "text/plain": [
       "        FlightRoute  CANCELLED\n",
       "0           JFK-BUF          0\n",
       "1           ITH-JFK          0\n",
       "2           JFK-ITH          0\n",
       "3           CLE-JFK          0\n",
       "4           ATL-FAY          0\n",
       "...             ...        ...\n",
       "6847894     JFK-CLT          0\n",
       "6847895     DTW-PIT          0\n",
       "6847896     LGA-RIC          0\n",
       "6847897     BOS-DCA          0\n",
       "6847898     RIC-LGA          0\n",
       "\n",
       "[6847899 rows x 2 columns]"
      ]
     },
     "execution_count": 30,
     "metadata": {},
     "output_type": "execute_result"
    }
   ],
   "source": [
    "df[[\"FlightRoute\",\"CANCELLED\"]]"
   ]
  },
  {
   "cell_type": "code",
   "execution_count": 31,
   "id": "91a138e0-1a53-4940-890d-45db9a7a1d8b",
   "metadata": {},
   "outputs": [],
   "source": [
    "# Creating Delay and cancellation categories\n",
    "\n",
    "df[\"DelayCategory\"] = pd.qcut(df[\"AvgDelay\"], q=4, labels=[\"Low\", \"Medium\", \"High\", \"Severe\"])\n",
    "df[\"CancellationCategory\"] = pd.qcut(df.groupby(\"FlightRoute\")[\"CANCELLED\"].transform(\"mean\"), \n",
    "                                             q=4, labels=[\"Low\", \"Medium\", \"High\", \"Severe\"])"
   ]
  },
  {
   "cell_type": "code",
   "execution_count": 32,
   "id": "d0b58339-e24d-4e4c-80ff-40a53a749789",
   "metadata": {},
   "outputs": [
    {
     "name": "stdout",
     "output_type": "stream",
     "text": [
      "OP_UNIQUE_CARRIER           0\n",
      "MONTH                       0\n",
      "DAY_OF_MONTH                0\n",
      "FlightRoute                 0\n",
      "DelayCategory           84529\n",
      "CancellationCategory        0\n",
      "dtype: int64\n"
     ]
    }
   ],
   "source": [
    "print(df[[\"OP_UNIQUE_CARRIER\", \"MONTH\", \"DAY_OF_MONTH\", \"FlightRoute\", \"DelayCategory\", \"CancellationCategory\"]].isnull().sum())\n"
   ]
  },
  {
   "cell_type": "code",
   "execution_count": 33,
   "id": "e5a3eb9f-750c-499f-aeb4-b6126925c1e8",
   "metadata": {},
   "outputs": [
    {
     "name": "stdout",
     "output_type": "stream",
     "text": [
      "category\n"
     ]
    }
   ],
   "source": [
    "print(df[\"DelayCategory\"].dtype)\n"
   ]
  },
  {
   "cell_type": "code",
   "execution_count": 34,
   "id": "5c53ca94-a075-47b9-b680-ece3a7bcaf53",
   "metadata": {},
   "outputs": [],
   "source": [
    "df[\"DelayCategory\"] = df[\"DelayCategory\"].astype(\"category\")\n",
    "df[\"DelayCategory\"] = df[\"DelayCategory\"].cat.add_categories(\"Unknown\")\n",
    "df[\"DelayCategory\"].fillna(\"Unknown\", inplace=True)\n"
   ]
  },
  {
   "cell_type": "code",
   "execution_count": 35,
   "id": "ac38a6be-81c8-4efd-9014-aa63ca45f6e7",
   "metadata": {},
   "outputs": [],
   "source": [
    "category_counts = df.groupby(\n",
    "    [\"OP_UNIQUE_CARRIER\", \"MONTH\", \"DAY_OF_MONTH\", \"FlightRoute\", \"DelayCategory\", \"CancellationCategory\"], \n",
    "    observed=True\n",
    ").size()\n"
   ]
  },
  {
   "cell_type": "code",
   "execution_count": 36,
   "id": "16623d0c-5671-479e-9509-44c93cdd40a5",
   "metadata": {},
   "outputs": [],
   "source": [
    "category_counts = category_counts.reset_index(name=\"Count\")\n"
   ]
  },
  {
   "cell_type": "code",
   "execution_count": 37,
   "id": "b00571ef-810c-4431-bd35-5a5c22086541",
   "metadata": {},
   "outputs": [],
   "source": [
    "category_counts = df.groupby(\n",
    "    [\"OP_UNIQUE_CARRIER\", \"MONTH\", \"FlightRoute\", \"DelayCategory\"], \n",
    "    observed=True\n",
    ").size()\n",
    "\n",
    "df[\"valid_category\"] = df.set_index(\n",
    "    [\"OP_UNIQUE_CARRIER\", \"MONTH\", \"FlightRoute\", \"DelayCategory\"]\n",
    ").index.isin(category_counts[category_counts > 1].index)\n",
    "\n",
    "df_filtered = df[df[\"valid_category\"]].drop(columns=[\"valid_category\"])\n"
   ]
  },
  {
   "cell_type": "code",
   "execution_count": 38,
   "id": "0ac2ab0b-2527-4947-b235-4a4defde8944",
   "metadata": {},
   "outputs": [],
   "source": [
    "# Function to sample the dataset to a million rows\n",
    "desired_rows = 1_000_000  \n",
    "sampling_fraction = desired_rows / len(df_filtered)\n",
    "\n",
    "df_sampled, _ = train_test_split(\n",
    "    df_filtered, train_size=sampling_fraction, \n",
    "    stratify=df_filtered[[\"OP_UNIQUE_CARRIER\", \"MONTH\", \"FlightRoute\", \"DelayCategory\"]], \n",
    "    random_state=42\n",
    ")"
   ]
  },
  {
   "cell_type": "code",
   "execution_count": 39,
   "id": "a9c0eb37-148b-46eb-83c3-1e5f9bed18f1",
   "metadata": {
    "scrolled": true
   },
   "outputs": [
    {
     "data": {
      "text/plain": [
       "(1000000, 35)"
      ]
     },
     "execution_count": 39,
     "metadata": {},
     "output_type": "execute_result"
    }
   ],
   "source": [
    "df_sampled.shape"
   ]
  },
  {
   "cell_type": "code",
   "execution_count": 40,
   "id": "3e8da68e-f146-400c-bf11-96b078fd629b",
   "metadata": {},
   "outputs": [
    {
     "data": {
      "text/plain": [
       "Index(['YEAR', 'QUARTER', 'MONTH', 'DAY_OF_MONTH', 'DAY_OF_WEEK', 'FL_DATE',\n",
       "       'OP_UNIQUE_CARRIER', 'OP_CARRIER_AIRLINE_ID', 'OP_CARRIER_FL_NUM',\n",
       "       'ORIGIN', 'ORIGIN_CITY_NAME', 'ORIGIN_STATE_ABR', 'DEST',\n",
       "       'DEST_CITY_NAME', 'DEST_STATE_ABR', 'CRS_DEP_TIME', 'DEP_TIME',\n",
       "       'DEP_DELAY', 'CRS_ARR_TIME', 'ARR_TIME', 'ARR_DELAY', 'CANCELLED',\n",
       "       'CANCELLATION_CODE', 'DIVERTED', 'AIR_TIME', 'DISTANCE',\n",
       "       'CARRIER_DELAY', 'WEATHER_DELAY', 'NAS_DELAY', 'SECURITY_DELAY',\n",
       "       'LATE_AIRCRAFT_DELAY', 'FlightRoute', 'AvgDelay', 'DelayCategory',\n",
       "       'CancellationCategory'],\n",
       "      dtype='object')"
      ]
     },
     "execution_count": 40,
     "metadata": {},
     "output_type": "execute_result"
    }
   ],
   "source": [
    "df_sampled.columns"
   ]
  },
  {
   "cell_type": "code",
   "execution_count": 41,
   "id": "9304122f-3224-4a78-bc62-00625d471d44",
   "metadata": {},
   "outputs": [
    {
     "name": "stdout",
     "output_type": "stream",
     "text": [
      "Airline distribution before sampling:\n",
      "OP_UNIQUE_CARRIER\n",
      "WN    0.210508\n",
      "DL    0.144437\n",
      "AA    0.137934\n",
      "UA    0.107278\n",
      "OO    0.098491\n",
      "Name: proportion, dtype: float64\n",
      "airline distribution after sampling:\n",
      "OP_UNIQUE_CARRIER\n",
      "WN    0.211077\n",
      "DL    0.145136\n",
      "AA    0.138730\n",
      "UA    0.107866\n",
      "OO    0.098708\n",
      "Name: proportion, dtype: float64\n",
      "Month distribution before sampling:\n",
      "MONTH\n",
      "1     0.078577\n",
      "2     0.073310\n",
      "3     0.084727\n",
      "4     0.081920\n",
      "5     0.084691\n",
      "6     0.084250\n",
      "7     0.087893\n",
      "8     0.087987\n",
      "9     0.083154\n",
      "10    0.087654\n",
      "11    0.082459\n",
      "12    0.083378\n",
      "Name: proportion, dtype: float64\n",
      "Month distribution before sampling:\n",
      "MONTH\n",
      "1     0.078605\n",
      "2     0.073163\n",
      "3     0.084791\n",
      "4     0.081821\n",
      "5     0.084570\n",
      "6     0.084032\n",
      "7     0.087824\n",
      "8     0.087899\n",
      "9     0.083265\n",
      "10    0.087891\n",
      "11    0.082626\n",
      "12    0.083513\n",
      "Name: proportion, dtype: float64\n",
      "Delay Category distribution before sampling\n",
      "DelayCategory\n",
      "High       0.250592\n",
      "Medium     0.247765\n",
      "Low        0.247721\n",
      "Severe     0.243987\n",
      "Unknown    0.009935\n",
      "Name: proportion, dtype: float64\n",
      "Delay Category distribution after sampling\n",
      "DelayCategory\n",
      "High       0.251146\n",
      "Low        0.248491\n",
      "Medium     0.248293\n",
      "Severe     0.244613\n",
      "Unknown    0.007457\n",
      "Name: proportion, dtype: float64\n"
     ]
    }
   ],
   "source": [
    "# Compare distributions before and after sampling\n",
    "print(\"Airline distribution before sampling:\")\n",
    "print(df_filtered[\"OP_UNIQUE_CARRIER\"].value_counts(normalize=True).head())\n",
    "\n",
    "print(\"airline distribution after sampling:\")\n",
    "print(df_sampled[\"OP_UNIQUE_CARRIER\"].value_counts(normalize=True).head())\n",
    "\n",
    "\n",
    "\n",
    "print(\"Month distribution before sampling:\")\n",
    "print(df_filtered[\"MONTH\"].value_counts(normalize = True).sort_index())\n",
    "\n",
    "print(\"Month distribution before sampling:\")\n",
    "print(df_sampled[\"MONTH\"].value_counts(normalize = True).sort_index())\n",
    "\n",
    "\n",
    "\n",
    "\n",
    "print(\"Delay Category distribution before sampling\")\n",
    "print(df_filtered[\"DelayCategory\"].value_counts(normalize=True))\n",
    "\n",
    "print(\"Delay Category distribution after sampling\")\n",
    "print(df_sampled[\"DelayCategory\"].value_counts(normalize=True))"
   ]
  },
  {
   "cell_type": "code",
   "execution_count": null,
   "id": "fef65dbe-d876-4b8f-87f2-7691f5b2dcf9",
   "metadata": {},
   "outputs": [],
   "source": [
    "output_path = (\"C:/Users/user/Desktop/DATASET/airline data for tableau/complete data/sampled_data\")\n",
    "df_sampled.to_csv(output_path, index = False)"
   ]
  }
 ],
 "metadata": {
  "kernelspec": {
   "display_name": "Python 3 (ipykernel)",
   "language": "python",
   "name": "python3"
  },
  "language_info": {
   "codemirror_mode": {
    "name": "ipython",
    "version": 3
   },
   "file_extension": ".py",
   "mimetype": "text/x-python",
   "name": "python",
   "nbconvert_exporter": "python",
   "pygments_lexer": "ipython3",
   "version": "3.11.7"
  }
 },
 "nbformat": 4,
 "nbformat_minor": 5
}
